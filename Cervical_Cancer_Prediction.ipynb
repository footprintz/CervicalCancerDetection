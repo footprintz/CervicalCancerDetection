{
 "cells": [
  {
   "cell_type": "markdown",
   "metadata": {},
   "source": [
    "# Cervical Cancer Prediction\n",
    "\n",
    "This project aims to use the the Ensemble methods to predict the occurence of cervical cancer. Given that this is a classification problem, classification algorithms would be used. \n",
    "\n",
    "For this research work, the following classification methods would be used: \n",
    "- Naïve Bayes\n",
    "- Support Vector Model\n",
    "- Logistic Regression\n",
    "- K-Nearest Neighbour and\n",
    "- Decision tree\n",
    "\n",
    "After the classification methods are used, the *stacking classifier* would then be used to pick three models that yeilds the best result. "
   ]
  },
  {
   "cell_type": "code",
   "execution_count": 1,
   "metadata": {
    "colab": {
     "base_uri": "https://localhost:8080/",
     "height": 71
    },
    "colab_type": "code",
    "id": "7oyIu5bDptdI",
    "outputId": "57e75c64-5ae6-4828-adf5-fdfafc2cba43"
   },
   "outputs": [],
   "source": [
    "# Numerical Analysis and Data cleaning libraries\n",
    "import numpy as np\n",
    "import pandas as pd\n",
    "\n",
    "# Visualization libraries\n",
    "import matplotlib.pyplot as plt \n",
    "import seaborn as sns\n",
    "%matplotlib inline\n",
    "\n",
    "# Data preparation and Model evaluation modules\n",
    "from sklearn.model_selection import train_test_split , cross_val_score\n",
    "from sklearn.utils import resample\n",
    "from sklearn.preprocessing import MinMaxScaler\n",
    "from sklearn.model_selection import StratifiedKFold\n",
    "from sklearn.metrics import classification_report, accuracy_score, make_scorer,precision_recall_fscore_support\n",
    "from sklearn.naive_bayes import MultinomialNB\n",
    "from sklearn.datasets import make_multilabel_classification\n",
    "\n",
    "# Sklearn Classification Algorithms \n",
    "from sklearn.linear_model import LogisticRegression\n",
    "from sklearn.svm import SVC\n",
    "from sklearn.tree import DecisionTreeClassifier\n",
    "from sklearn.multioutput import MultiOutputClassifier\n",
    "from sklearn.neighbors import KNeighborsClassifier\n",
    "from sklearn.ensemble import RandomForestClassifier,StackingClassifier, VotingClassifier\n",
    "\n",
    "# Removing warnings\n",
    "import warnings\n",
    "warnings.filterwarnings('ignore')"
   ]
  },
  {
   "cell_type": "markdown",
   "metadata": {},
   "source": [
    "### Reading in the Dataset\n",
    "\n",
    "The dataset is obtained from the University of Carlifornia Irvine from: https://archive.ics.uci.edu/ml/machine-learning-databases/00383/risk_factors_cervical_cancer.csv. \n",
    "<br>The dataset consists of the following columns: \n",
    "<br>**Age**: The age of the individual\n",
    "<br>**Number of sexual partners**: Number of sexual partners the individual has had\n",
    "<br>**First sexual intercourse**: \n",
    "<br>**Num of pregnancies**: Number of times pregnant\n",
    "<br>**Smokes**: If the individual has smoked\n",
    "<br>**Smokes (years)**: Number of years individual has been smoking\n",
    "<br>**Smokes (packs/year)**: Number of cigarette packs smoked per year\n",
    "<br>**Hormonal Contraceptives**: Use of contraceptives\n",
    "<br>**Hormonal Contraceptives (years)**: Number of years contraceptives have been used\n",
    "<br>**IUD**: Use of intra-uterinal device\n",
    "<br>**IUD (years)**: Number of years using uterinal device\n",
    "<br>**STDs**: If individual has contracted an STD\n",
    "<br>**STDs (number)**: Number of times STD has been contracted\n",
    "<br>**STDs:condylomatosis**: Incidence of condylomatosis\n",
    "<br>**STDs:cervical condylomatosis**: Incidence of cervical condylomatosis\n",
    "<br>**STDs:vaginal condylomatosis**: Incidence of vaginal condylomatosis\n",
    "<br>**STDs:vulvo-perineal condylomatosis:** Incidence of vulvo-perineal condylomatosis\n",
    "<br>**STDs:syphilis**: Incidence of syphillis\n",
    "<br>**STDs:pelvic inflammatory disease**: Incidence of pelvic inflammatory disease\n",
    "<br>**STDs:genital herpes**: Incidence of genital herpes\n",
    "<br>**STDs:molluscum contagiosum**: Incidence of molluscum contagiosum\n",
    "<br>**STDs:AIDS**: Incidence of AIDS\n",
    "<br>**STDs:HIV**: Incidence of HIV\n",
    "<br>**STDs:Hepatitis B**: Incidence of Hepatitis B\n",
    "<br>**STDs:HPV**: Incidence of HPV\n",
    "<br>**STDs: Number of diagnosis**: Number of times STD has been contracted\n",
    "<br>**STDs: Time since first diagnosis**: Time since last diagnosis\n",
    "<br>**STDs: Time since last diagnosis**: Time since last diagnosis\n",
    "<br>**Dx:Cancer**: \n",
    "<br>**Dx:CIN**: \n",
    "<br>**Dx:HPV**: \n",
    "<br>**Dx**\n",
    "<br>**Hinselmann**\n",
    "<br>**Schiller**\n",
    "<br>**Citology**\n",
    "<br>**Biopsy**"
   ]
  },
  {
   "cell_type": "code",
   "execution_count": 2,
   "metadata": {
    "colab": {},
    "colab_type": "code",
    "id": "CXO3U0fUptdP"
   },
   "outputs": [],
   "source": [
    "# Reading the data set\n",
    "data = pd.read_csv('https://archive.ics.uci.edu/ml/machine-learning-databases/00383/risk_factors_cervical_cancer.csv')"
   ]
  },
  {
   "cell_type": "markdown",
   "metadata": {},
   "source": [
    "## Initial Data Exploration"
   ]
  },
  {
   "cell_type": "code",
   "execution_count": 3,
   "metadata": {
    "scrolled": true
   },
   "outputs": [
    {
     "data": {
      "text/html": [
       "<div>\n",
       "<style scoped>\n",
       "    .dataframe tbody tr th:only-of-type {\n",
       "        vertical-align: middle;\n",
       "    }\n",
       "\n",
       "    .dataframe tbody tr th {\n",
       "        vertical-align: top;\n",
       "    }\n",
       "\n",
       "    .dataframe thead th {\n",
       "        text-align: right;\n",
       "    }\n",
       "</style>\n",
       "<table border=\"1\" class=\"dataframe\">\n",
       "  <thead>\n",
       "    <tr style=\"text-align: right;\">\n",
       "      <th></th>\n",
       "      <th>Age</th>\n",
       "      <th>Number of sexual partners</th>\n",
       "      <th>First sexual intercourse</th>\n",
       "      <th>Num of pregnancies</th>\n",
       "      <th>Smokes</th>\n",
       "      <th>Smokes (years)</th>\n",
       "      <th>Smokes (packs/year)</th>\n",
       "      <th>Hormonal Contraceptives</th>\n",
       "      <th>Hormonal Contraceptives (years)</th>\n",
       "      <th>IUD</th>\n",
       "      <th>...</th>\n",
       "      <th>STDs: Time since first diagnosis</th>\n",
       "      <th>STDs: Time since last diagnosis</th>\n",
       "      <th>Dx:Cancer</th>\n",
       "      <th>Dx:CIN</th>\n",
       "      <th>Dx:HPV</th>\n",
       "      <th>Dx</th>\n",
       "      <th>Hinselmann</th>\n",
       "      <th>Schiller</th>\n",
       "      <th>Citology</th>\n",
       "      <th>Biopsy</th>\n",
       "    </tr>\n",
       "  </thead>\n",
       "  <tbody>\n",
       "    <tr>\n",
       "      <th>0</th>\n",
       "      <td>18</td>\n",
       "      <td>4.0</td>\n",
       "      <td>15.0</td>\n",
       "      <td>1.0</td>\n",
       "      <td>0.0</td>\n",
       "      <td>0.0</td>\n",
       "      <td>0.0</td>\n",
       "      <td>0.0</td>\n",
       "      <td>0.0</td>\n",
       "      <td>0.0</td>\n",
       "      <td>...</td>\n",
       "      <td>?</td>\n",
       "      <td>?</td>\n",
       "      <td>0</td>\n",
       "      <td>0</td>\n",
       "      <td>0</td>\n",
       "      <td>0</td>\n",
       "      <td>0</td>\n",
       "      <td>0</td>\n",
       "      <td>0</td>\n",
       "      <td>0</td>\n",
       "    </tr>\n",
       "    <tr>\n",
       "      <th>1</th>\n",
       "      <td>15</td>\n",
       "      <td>1.0</td>\n",
       "      <td>14.0</td>\n",
       "      <td>1.0</td>\n",
       "      <td>0.0</td>\n",
       "      <td>0.0</td>\n",
       "      <td>0.0</td>\n",
       "      <td>0.0</td>\n",
       "      <td>0.0</td>\n",
       "      <td>0.0</td>\n",
       "      <td>...</td>\n",
       "      <td>?</td>\n",
       "      <td>?</td>\n",
       "      <td>0</td>\n",
       "      <td>0</td>\n",
       "      <td>0</td>\n",
       "      <td>0</td>\n",
       "      <td>0</td>\n",
       "      <td>0</td>\n",
       "      <td>0</td>\n",
       "      <td>0</td>\n",
       "    </tr>\n",
       "    <tr>\n",
       "      <th>2</th>\n",
       "      <td>34</td>\n",
       "      <td>1.0</td>\n",
       "      <td>?</td>\n",
       "      <td>1.0</td>\n",
       "      <td>0.0</td>\n",
       "      <td>0.0</td>\n",
       "      <td>0.0</td>\n",
       "      <td>0.0</td>\n",
       "      <td>0.0</td>\n",
       "      <td>0.0</td>\n",
       "      <td>...</td>\n",
       "      <td>?</td>\n",
       "      <td>?</td>\n",
       "      <td>0</td>\n",
       "      <td>0</td>\n",
       "      <td>0</td>\n",
       "      <td>0</td>\n",
       "      <td>0</td>\n",
       "      <td>0</td>\n",
       "      <td>0</td>\n",
       "      <td>0</td>\n",
       "    </tr>\n",
       "    <tr>\n",
       "      <th>3</th>\n",
       "      <td>52</td>\n",
       "      <td>5.0</td>\n",
       "      <td>16.0</td>\n",
       "      <td>4.0</td>\n",
       "      <td>1.0</td>\n",
       "      <td>37.0</td>\n",
       "      <td>37.0</td>\n",
       "      <td>1.0</td>\n",
       "      <td>3.0</td>\n",
       "      <td>0.0</td>\n",
       "      <td>...</td>\n",
       "      <td>?</td>\n",
       "      <td>?</td>\n",
       "      <td>1</td>\n",
       "      <td>0</td>\n",
       "      <td>1</td>\n",
       "      <td>0</td>\n",
       "      <td>0</td>\n",
       "      <td>0</td>\n",
       "      <td>0</td>\n",
       "      <td>0</td>\n",
       "    </tr>\n",
       "    <tr>\n",
       "      <th>4</th>\n",
       "      <td>46</td>\n",
       "      <td>3.0</td>\n",
       "      <td>21.0</td>\n",
       "      <td>4.0</td>\n",
       "      <td>0.0</td>\n",
       "      <td>0.0</td>\n",
       "      <td>0.0</td>\n",
       "      <td>1.0</td>\n",
       "      <td>15.0</td>\n",
       "      <td>0.0</td>\n",
       "      <td>...</td>\n",
       "      <td>?</td>\n",
       "      <td>?</td>\n",
       "      <td>0</td>\n",
       "      <td>0</td>\n",
       "      <td>0</td>\n",
       "      <td>0</td>\n",
       "      <td>0</td>\n",
       "      <td>0</td>\n",
       "      <td>0</td>\n",
       "      <td>0</td>\n",
       "    </tr>\n",
       "  </tbody>\n",
       "</table>\n",
       "<p>5 rows × 36 columns</p>\n",
       "</div>"
      ],
      "text/plain": [
       "   Age Number of sexual partners First sexual intercourse Num of pregnancies  \\\n",
       "0   18                       4.0                     15.0                1.0   \n",
       "1   15                       1.0                     14.0                1.0   \n",
       "2   34                       1.0                        ?                1.0   \n",
       "3   52                       5.0                     16.0                4.0   \n",
       "4   46                       3.0                     21.0                4.0   \n",
       "\n",
       "  Smokes Smokes (years) Smokes (packs/year) Hormonal Contraceptives  \\\n",
       "0    0.0            0.0                 0.0                     0.0   \n",
       "1    0.0            0.0                 0.0                     0.0   \n",
       "2    0.0            0.0                 0.0                     0.0   \n",
       "3    1.0           37.0                37.0                     1.0   \n",
       "4    0.0            0.0                 0.0                     1.0   \n",
       "\n",
       "  Hormonal Contraceptives (years)  IUD  ... STDs: Time since first diagnosis  \\\n",
       "0                             0.0  0.0  ...                                ?   \n",
       "1                             0.0  0.0  ...                                ?   \n",
       "2                             0.0  0.0  ...                                ?   \n",
       "3                             3.0  0.0  ...                                ?   \n",
       "4                            15.0  0.0  ...                                ?   \n",
       "\n",
       "  STDs: Time since last diagnosis Dx:Cancer Dx:CIN Dx:HPV Dx Hinselmann  \\\n",
       "0                               ?         0      0      0  0          0   \n",
       "1                               ?         0      0      0  0          0   \n",
       "2                               ?         0      0      0  0          0   \n",
       "3                               ?         1      0      1  0          0   \n",
       "4                               ?         0      0      0  0          0   \n",
       "\n",
       "  Schiller Citology Biopsy  \n",
       "0        0        0      0  \n",
       "1        0        0      0  \n",
       "2        0        0      0  \n",
       "3        0        0      0  \n",
       "4        0        0      0  \n",
       "\n",
       "[5 rows x 36 columns]"
      ]
     },
     "execution_count": 3,
     "metadata": {},
     "output_type": "execute_result"
    }
   ],
   "source": [
    "# Preview of the dataset\n",
    "data.head()"
   ]
  },
  {
   "cell_type": "code",
   "execution_count": 4,
   "metadata": {
    "colab": {
     "base_uri": "https://localhost:8080/",
     "height": 646
    },
    "colab_type": "code",
    "id": "zVb8vm_rptdx",
    "outputId": "f4a60060-c5b8-42ab-f12f-c7d640c12f23",
    "scrolled": false
   },
   "outputs": [
    {
     "name": "stdout",
     "output_type": "stream",
     "text": [
      "<class 'pandas.core.frame.DataFrame'>\n",
      "RangeIndex: 858 entries, 0 to 857\n",
      "Data columns (total 36 columns):\n",
      " #   Column                              Non-Null Count  Dtype \n",
      "---  ------                              --------------  ----- \n",
      " 0   Age                                 858 non-null    int64 \n",
      " 1   Number of sexual partners           858 non-null    object\n",
      " 2   First sexual intercourse            858 non-null    object\n",
      " 3   Num of pregnancies                  858 non-null    object\n",
      " 4   Smokes                              858 non-null    object\n",
      " 5   Smokes (years)                      858 non-null    object\n",
      " 6   Smokes (packs/year)                 858 non-null    object\n",
      " 7   Hormonal Contraceptives             858 non-null    object\n",
      " 8   Hormonal Contraceptives (years)     858 non-null    object\n",
      " 9   IUD                                 858 non-null    object\n",
      " 10  IUD (years)                         858 non-null    object\n",
      " 11  STDs                                858 non-null    object\n",
      " 12  STDs (number)                       858 non-null    object\n",
      " 13  STDs:condylomatosis                 858 non-null    object\n",
      " 14  STDs:cervical condylomatosis        858 non-null    object\n",
      " 15  STDs:vaginal condylomatosis         858 non-null    object\n",
      " 16  STDs:vulvo-perineal condylomatosis  858 non-null    object\n",
      " 17  STDs:syphilis                       858 non-null    object\n",
      " 18  STDs:pelvic inflammatory disease    858 non-null    object\n",
      " 19  STDs:genital herpes                 858 non-null    object\n",
      " 20  STDs:molluscum contagiosum          858 non-null    object\n",
      " 21  STDs:AIDS                           858 non-null    object\n",
      " 22  STDs:HIV                            858 non-null    object\n",
      " 23  STDs:Hepatitis B                    858 non-null    object\n",
      " 24  STDs:HPV                            858 non-null    object\n",
      " 25  STDs: Number of diagnosis           858 non-null    int64 \n",
      " 26  STDs: Time since first diagnosis    858 non-null    object\n",
      " 27  STDs: Time since last diagnosis     858 non-null    object\n",
      " 28  Dx:Cancer                           858 non-null    int64 \n",
      " 29  Dx:CIN                              858 non-null    int64 \n",
      " 30  Dx:HPV                              858 non-null    int64 \n",
      " 31  Dx                                  858 non-null    int64 \n",
      " 32  Hinselmann                          858 non-null    int64 \n",
      " 33  Schiller                            858 non-null    int64 \n",
      " 34  Citology                            858 non-null    int64 \n",
      " 35  Biopsy                              858 non-null    int64 \n",
      "dtypes: int64(10), object(26)\n",
      "memory usage: 241.4+ KB\n"
     ]
    }
   ],
   "source": [
    "# Finding the information about the dataset\n",
    "data.info()"
   ]
  },
  {
   "cell_type": "markdown",
   "metadata": {},
   "source": [
    "### Observation\n",
    "#### Question marks\n",
    "It was observed that question marks (**?**) were used in representing null values. To correct this, we would need to replace the question mark with correct representation of null values.\n",
    "\n",
    "#### Object Datatypes\n",
    "The object data types would be converted directly to floats so they can be used in the machine learning models. "
   ]
  },
  {
   "cell_type": "code",
   "execution_count": 5,
   "metadata": {},
   "outputs": [],
   "source": [
    "# Replacing the question mark with null values\n",
    "data = data.replace('?', np.nan)\n",
    "\n",
    "# Selecting the columns that are objects\n",
    "object_dtypes = data.select_dtypes(include=['object']).keys()\n",
    "\n",
    "# Converting the columns to float\n",
    "for col in object_dtypes:\n",
    "    data[col] = data[col].astype(float)"
   ]
  },
  {
   "cell_type": "code",
   "execution_count": 6,
   "metadata": {
    "scrolled": true
   },
   "outputs": [
    {
     "data": {
      "text/plain": [
       "Age                                    0.000000\n",
       "Number of sexual partners              3.030303\n",
       "First sexual intercourse               0.815851\n",
       "Num of pregnancies                     6.526807\n",
       "Smokes                                 1.515152\n",
       "Smokes (years)                         1.515152\n",
       "Smokes (packs/year)                    1.515152\n",
       "Hormonal Contraceptives               12.587413\n",
       "Hormonal Contraceptives (years)       12.587413\n",
       "IUD                                   13.636364\n",
       "IUD (years)                           13.636364\n",
       "STDs                                  12.237762\n",
       "STDs (number)                         12.237762\n",
       "STDs:condylomatosis                   12.237762\n",
       "STDs:cervical condylomatosis          12.237762\n",
       "STDs:vaginal condylomatosis           12.237762\n",
       "STDs:vulvo-perineal condylomatosis    12.237762\n",
       "STDs:syphilis                         12.237762\n",
       "STDs:pelvic inflammatory disease      12.237762\n",
       "STDs:genital herpes                   12.237762\n",
       "STDs:molluscum contagiosum            12.237762\n",
       "STDs:AIDS                             12.237762\n",
       "STDs:HIV                              12.237762\n",
       "STDs:Hepatitis B                      12.237762\n",
       "STDs:HPV                              12.237762\n",
       "STDs: Number of diagnosis              0.000000\n",
       "STDs: Time since first diagnosis      91.724942\n",
       "STDs: Time since last diagnosis       91.724942\n",
       "Dx:Cancer                              0.000000\n",
       "Dx:CIN                                 0.000000\n",
       "Dx:HPV                                 0.000000\n",
       "Dx                                     0.000000\n",
       "Hinselmann                             0.000000\n",
       "Schiller                               0.000000\n",
       "Citology                               0.000000\n",
       "Biopsy                                 0.000000\n",
       "dtype: float64"
      ]
     },
     "execution_count": 6,
     "metadata": {},
     "output_type": "execute_result"
    }
   ],
   "source": [
    "# Percentage of missing data\n",
    "(data.isna().sum() / len(data)) * 100"
   ]
  },
  {
   "cell_type": "code",
   "execution_count": 7,
   "metadata": {
    "scrolled": true
   },
   "outputs": [
    {
     "data": {
      "image/png": "[encoded data removed]",
      "text/plain": [
       "<Figure size 1008x432 with 1 Axes>"
      ]
     },
     "metadata": {
      "needs_background": "light"
     },
     "output_type": "display_data"
    }
   ],
   "source": [
    "# Visualizing the null values in the dataframe\n",
    "plt.figure(figsize=(14, 6)) # Changing the figure size\n",
    "sns.heatmap(data.isnull(), cmap='viridis', cbar=None, yticklabels=False)\n",
    "plt.title('Visualizing the null values in the dataframe');"
   ]
  },
  {
   "cell_type": "code",
   "execution_count": 8,
   "metadata": {},
   "outputs": [
    {
     "data": {
      "text/html": [
       "<div>\n",
       "<style scoped>\n",
       "    .dataframe tbody tr th:only-of-type {\n",
       "        vertical-align: middle;\n",
       "    }\n",
       "\n",
       "    .dataframe tbody tr th {\n",
       "        vertical-align: top;\n",
       "    }\n",
       "\n",
       "    .dataframe thead th {\n",
       "        text-align: right;\n",
       "    }\n",
       "</style>\n",
       "<table border=\"1\" class=\"dataframe\">\n",
       "  <thead>\n",
       "    <tr style=\"text-align: right;\">\n",
       "      <th></th>\n",
       "      <th>Hinselmann</th>\n",
       "      <th>Citology</th>\n",
       "      <th>Schiller</th>\n",
       "      <th>Biopsy</th>\n",
       "    </tr>\n",
       "  </thead>\n",
       "  <tbody>\n",
       "    <tr>\n",
       "      <th>Age</th>\n",
       "      <td>-0.003967</td>\n",
       "      <td>-0.016862</td>\n",
       "      <td>0.103283</td>\n",
       "      <td>0.055956</td>\n",
       "    </tr>\n",
       "    <tr>\n",
       "      <th>Number of sexual partners</th>\n",
       "      <td>-0.039847</td>\n",
       "      <td>0.021858</td>\n",
       "      <td>-0.008967</td>\n",
       "      <td>-0.001442</td>\n",
       "    </tr>\n",
       "    <tr>\n",
       "      <th>First sexual intercourse</th>\n",
       "      <td>-0.016549</td>\n",
       "      <td>-0.010973</td>\n",
       "      <td>0.003495</td>\n",
       "      <td>0.007264</td>\n",
       "    </tr>\n",
       "    <tr>\n",
       "      <th>Num of pregnancies</th>\n",
       "      <td>0.040439</td>\n",
       "      <td>-0.030036</td>\n",
       "      <td>0.092017</td>\n",
       "      <td>0.046416</td>\n",
       "    </tr>\n",
       "    <tr>\n",
       "      <th>Smokes</th>\n",
       "      <td>0.035021</td>\n",
       "      <td>-0.003957</td>\n",
       "      <td>0.054322</td>\n",
       "      <td>0.029356</td>\n",
       "    </tr>\n",
       "    <tr>\n",
       "      <th>Smokes (years)</th>\n",
       "      <td>0.072251</td>\n",
       "      <td>-0.006827</td>\n",
       "      <td>0.095890</td>\n",
       "      <td>0.062044</td>\n",
       "    </tr>\n",
       "    <tr>\n",
       "      <th>Smokes (packs/year)</th>\n",
       "      <td>0.027044</td>\n",
       "      <td>0.004666</td>\n",
       "      <td>0.018191</td>\n",
       "      <td>0.024882</td>\n",
       "    </tr>\n",
       "    <tr>\n",
       "      <th>Hormonal Contraceptives</th>\n",
       "      <td>0.033654</td>\n",
       "      <td>-0.011317</td>\n",
       "      <td>-0.004276</td>\n",
       "      <td>0.007750</td>\n",
       "    </tr>\n",
       "    <tr>\n",
       "      <th>Hormonal Contraceptives (years)</th>\n",
       "      <td>0.038945</td>\n",
       "      <td>0.076263</td>\n",
       "      <td>0.079247</td>\n",
       "      <td>0.079388</td>\n",
       "    </tr>\n",
       "    <tr>\n",
       "      <th>IUD</th>\n",
       "      <td>0.044821</td>\n",
       "      <td>0.007628</td>\n",
       "      <td>0.085748</td>\n",
       "      <td>0.053194</td>\n",
       "    </tr>\n",
       "    <tr>\n",
       "      <th>IUD (years)</th>\n",
       "      <td>0.007994</td>\n",
       "      <td>0.002715</td>\n",
       "      <td>0.079415</td>\n",
       "      <td>0.033275</td>\n",
       "    </tr>\n",
       "    <tr>\n",
       "      <th>STDs</th>\n",
       "      <td>0.047923</td>\n",
       "      <td>0.051540</td>\n",
       "      <td>0.107525</td>\n",
       "      <td>0.109099</td>\n",
       "    </tr>\n",
       "    <tr>\n",
       "      <th>STDs (number)</th>\n",
       "      <td>0.065349</td>\n",
       "      <td>0.060010</td>\n",
       "      <td>0.120725</td>\n",
       "      <td>0.098347</td>\n",
       "    </tr>\n",
       "    <tr>\n",
       "      <th>STDs:condylomatosis</th>\n",
       "      <td>0.052573</td>\n",
       "      <td>0.064982</td>\n",
       "      <td>0.109728</td>\n",
       "      <td>0.086390</td>\n",
       "    </tr>\n",
       "    <tr>\n",
       "      <th>STDs:cervical condylomatosis</th>\n",
       "      <td>NaN</td>\n",
       "      <td>NaN</td>\n",
       "      <td>NaN</td>\n",
       "      <td>NaN</td>\n",
       "    </tr>\n",
       "    <tr>\n",
       "      <th>STDs:vaginal condylomatosis</th>\n",
       "      <td>-0.016135</td>\n",
       "      <td>-0.017536</td>\n",
       "      <td>-0.023944</td>\n",
       "      <td>-0.020108</td>\n",
       "    </tr>\n",
       "    <tr>\n",
       "      <th>STDs:vulvo-perineal condylomatosis</th>\n",
       "      <td>0.054407</td>\n",
       "      <td>0.067061</td>\n",
       "      <td>0.112794</td>\n",
       "      <td>0.088902</td>\n",
       "    </tr>\n",
       "    <tr>\n",
       "      <th>STDs:syphilis</th>\n",
       "      <td>0.006746</td>\n",
       "      <td>-0.037553</td>\n",
       "      <td>0.007492</td>\n",
       "      <td>-0.043061</td>\n",
       "    </tr>\n",
       "    <tr>\n",
       "      <th>STDs:pelvic inflammatory disease</th>\n",
       "      <td>-0.008051</td>\n",
       "      <td>-0.008751</td>\n",
       "      <td>-0.011948</td>\n",
       "      <td>-0.010034</td>\n",
       "    </tr>\n",
       "    <tr>\n",
       "      <th>STDs:genital herpes</th>\n",
       "      <td>-0.008051</td>\n",
       "      <td>-0.008751</td>\n",
       "      <td>-0.011948</td>\n",
       "      <td>0.132526</td>\n",
       "    </tr>\n",
       "    <tr>\n",
       "      <th>STDs:molluscum contagiosum</th>\n",
       "      <td>-0.008051</td>\n",
       "      <td>-0.008751</td>\n",
       "      <td>-0.011948</td>\n",
       "      <td>-0.010034</td>\n",
       "    </tr>\n",
       "    <tr>\n",
       "      <th>STDs:AIDS</th>\n",
       "      <td>NaN</td>\n",
       "      <td>NaN</td>\n",
       "      <td>NaN</td>\n",
       "      <td>NaN</td>\n",
       "    </tr>\n",
       "    <tr>\n",
       "      <th>STDs:HIV</th>\n",
       "      <td>0.089340</td>\n",
       "      <td>0.077396</td>\n",
       "      <td>0.125025</td>\n",
       "      <td>0.126880</td>\n",
       "    </tr>\n",
       "    <tr>\n",
       "      <th>STDs:Hepatitis B</th>\n",
       "      <td>-0.008051</td>\n",
       "      <td>-0.008751</td>\n",
       "      <td>-0.011948</td>\n",
       "      <td>-0.010034</td>\n",
       "    </tr>\n",
       "    <tr>\n",
       "      <th>STDs:HPV</th>\n",
       "      <td>-0.011394</td>\n",
       "      <td>-0.012384</td>\n",
       "      <td>-0.016908</td>\n",
       "      <td>-0.014200</td>\n",
       "    </tr>\n",
       "    <tr>\n",
       "      <th>STDs: Number of diagnosis</th>\n",
       "      <td>0.076787</td>\n",
       "      <td>0.055114</td>\n",
       "      <td>0.130873</td>\n",
       "      <td>0.097449</td>\n",
       "    </tr>\n",
       "    <tr>\n",
       "      <th>STDs: Time since first diagnosis</th>\n",
       "      <td>-0.119477</td>\n",
       "      <td>0.016257</td>\n",
       "      <td>-0.017973</td>\n",
       "      <td>-0.070153</td>\n",
       "    </tr>\n",
       "    <tr>\n",
       "      <th>STDs: Time since last diagnosis</th>\n",
       "      <td>-0.126042</td>\n",
       "      <td>0.035399</td>\n",
       "      <td>-0.002705</td>\n",
       "      <td>-0.047585</td>\n",
       "    </tr>\n",
       "    <tr>\n",
       "      <th>Dx:Cancer</th>\n",
       "      <td>0.134264</td>\n",
       "      <td>0.113446</td>\n",
       "      <td>0.157812</td>\n",
       "      <td>0.160905</td>\n",
       "    </tr>\n",
       "    <tr>\n",
       "      <th>Dx:CIN</th>\n",
       "      <td>-0.021233</td>\n",
       "      <td>-0.023938</td>\n",
       "      <td>0.009119</td>\n",
       "      <td>0.113172</td>\n",
       "    </tr>\n",
       "    <tr>\n",
       "      <th>Dx:HPV</th>\n",
       "      <td>0.134264</td>\n",
       "      <td>0.113446</td>\n",
       "      <td>0.157812</td>\n",
       "      <td>0.160905</td>\n",
       "    </tr>\n",
       "    <tr>\n",
       "      <th>Dx</th>\n",
       "      <td>0.072215</td>\n",
       "      <td>0.088740</td>\n",
       "      <td>0.098952</td>\n",
       "      <td>0.157607</td>\n",
       "    </tr>\n",
       "    <tr>\n",
       "      <th>Hinselmann</th>\n",
       "      <td>1.000000</td>\n",
       "      <td>0.192467</td>\n",
       "      <td>0.650249</td>\n",
       "      <td>0.547417</td>\n",
       "    </tr>\n",
       "    <tr>\n",
       "      <th>Schiller</th>\n",
       "      <td>0.650249</td>\n",
       "      <td>0.361486</td>\n",
       "      <td>1.000000</td>\n",
       "      <td>0.733204</td>\n",
       "    </tr>\n",
       "    <tr>\n",
       "      <th>Citology</th>\n",
       "      <td>0.192467</td>\n",
       "      <td>1.000000</td>\n",
       "      <td>0.361486</td>\n",
       "      <td>0.327466</td>\n",
       "    </tr>\n",
       "    <tr>\n",
       "      <th>Biopsy</th>\n",
       "      <td>0.547417</td>\n",
       "      <td>0.327466</td>\n",
       "      <td>0.733204</td>\n",
       "      <td>1.000000</td>\n",
       "    </tr>\n",
       "  </tbody>\n",
       "</table>\n",
       "</div>"
      ],
      "text/plain": [
       "                                    Hinselmann  Citology  Schiller    Biopsy\n",
       "Age                                  -0.003967 -0.016862  0.103283  0.055956\n",
       "Number of sexual partners            -0.039847  0.021858 -0.008967 -0.001442\n",
       "First sexual intercourse             -0.016549 -0.010973  0.003495  0.007264\n",
       "Num of pregnancies                    0.040439 -0.030036  0.092017  0.046416\n",
       "Smokes                                0.035021 -0.003957  0.054322  0.029356\n",
       "Smokes (years)                        0.072251 -0.006827  0.095890  0.062044\n",
       "Smokes (packs/year)                   0.027044  0.004666  0.018191  0.024882\n",
       "Hormonal Contraceptives               0.033654 -0.011317 -0.004276  0.007750\n",
       "Hormonal Contraceptives (years)       0.038945  0.076263  0.079247  0.079388\n",
       "IUD                                   0.044821  0.007628  0.085748  0.053194\n",
       "IUD (years)                           0.007994  0.002715  0.079415  0.033275\n",
       "STDs                                  0.047923  0.051540  0.107525  0.109099\n",
       "STDs (number)                         0.065349  0.060010  0.120725  0.098347\n",
       "STDs:condylomatosis                   0.052573  0.064982  0.109728  0.086390\n",
       "STDs:cervical condylomatosis               NaN       NaN       NaN       NaN\n",
       "STDs:vaginal condylomatosis          -0.016135 -0.017536 -0.023944 -0.020108\n",
       "STDs:vulvo-perineal condylomatosis    0.054407  0.067061  0.112794  0.088902\n",
       "STDs:syphilis                         0.006746 -0.037553  0.007492 -0.043061\n",
       "STDs:pelvic inflammatory disease     -0.008051 -0.008751 -0.011948 -0.010034\n",
       "STDs:genital herpes                  -0.008051 -0.008751 -0.011948  0.132526\n",
       "STDs:molluscum contagiosum           -0.008051 -0.008751 -0.011948 -0.010034\n",
       "STDs:AIDS                                  NaN       NaN       NaN       NaN\n",
       "STDs:HIV                              0.089340  0.077396  0.125025  0.126880\n",
       "STDs:Hepatitis B                     -0.008051 -0.008751 -0.011948 -0.010034\n",
       "STDs:HPV                             -0.011394 -0.012384 -0.016908 -0.014200\n",
       "STDs: Number of diagnosis             0.076787  0.055114  0.130873  0.097449\n",
       "STDs: Time since first diagnosis     -0.119477  0.016257 -0.017973 -0.070153\n",
       "STDs: Time since last diagnosis      -0.126042  0.035399 -0.002705 -0.047585\n",
       "Dx:Cancer                             0.134264  0.113446  0.157812  0.160905\n",
       "Dx:CIN                               -0.021233 -0.023938  0.009119  0.113172\n",
       "Dx:HPV                                0.134264  0.113446  0.157812  0.160905\n",
       "Dx                                    0.072215  0.088740  0.098952  0.157607\n",
       "Hinselmann                            1.000000  0.192467  0.650249  0.547417\n",
       "Schiller                              0.650249  0.361486  1.000000  0.733204\n",
       "Citology                              0.192467  1.000000  0.361486  0.327466\n",
       "Biopsy                                0.547417  0.327466  0.733204  1.000000"
      ]
     },
     "execution_count": 8,
     "metadata": {},
     "output_type": "execute_result"
    }
   ],
   "source": [
    "# Correlation betweeen features and target variables\n",
    "data.corr()[['Hinselmann', 'Citology','Schiller','Biopsy']]"
   ]
  },
  {
   "cell_type": "code",
   "execution_count": 9,
   "metadata": {},
   "outputs": [
    {
     "data": {
      "text/html": [
       "<div>\n",
       "<style scoped>\n",
       "    .dataframe tbody tr th:only-of-type {\n",
       "        vertical-align: middle;\n",
       "    }\n",
       "\n",
       "    .dataframe tbody tr th {\n",
       "        vertical-align: top;\n",
       "    }\n",
       "\n",
       "    .dataframe thead th {\n",
       "        text-align: right;\n",
       "    }\n",
       "</style>\n",
       "<table border=\"1\" class=\"dataframe\">\n",
       "  <thead>\n",
       "    <tr style=\"text-align: right;\">\n",
       "      <th></th>\n",
       "      <th>STDs:AIDS</th>\n",
       "      <th>STDs:cervical condylomatosis</th>\n",
       "    </tr>\n",
       "  </thead>\n",
       "  <tbody>\n",
       "    <tr>\n",
       "      <th>0.0</th>\n",
       "      <td>753</td>\n",
       "      <td>753</td>\n",
       "    </tr>\n",
       "  </tbody>\n",
       "</table>\n",
       "</div>"
      ],
      "text/plain": [
       "     STDs:AIDS  STDs:cervical condylomatosis\n",
       "0.0        753                           753"
      ]
     },
     "execution_count": 9,
     "metadata": {},
     "output_type": "execute_result"
    }
   ],
   "source": [
    "# More insights on the columns that do not correlate with the target variables\n",
    "data[['STDs:AIDS', 'STDs:cervical condylomatosis']].apply(lambda x: x.value_counts())"
   ]
  },
  {
   "cell_type": "code",
   "execution_count": 10,
   "metadata": {},
   "outputs": [
    {
     "data": {
      "image/png": "[encoded data removed]",
      "text/plain": [
       "<Figure size 936x504 with 2 Axes>"
      ]
     },
     "metadata": {
      "needs_background": "light"
     },
     "output_type": "display_data"
    }
   ],
   "source": [
    "# Visualizing the Correlation between features and target variables\n",
    "plt.figure(figsize=(13, 7))\n",
    "sns.heatmap(data.corr()[['Hinselmann', 'Citology','Schiller','Biopsy']], cmap='coolwarm')\n",
    "plt.title(\"Visualizing the Correlation between features and target variables\");"
   ]
  },
  {
   "cell_type": "code",
   "execution_count": 11,
   "metadata": {},
   "outputs": [
    {
     "data": {
      "text/plain": [
       "False    835\n",
       "True      23\n",
       "dtype: int64"
      ]
     },
     "execution_count": 11,
     "metadata": {},
     "output_type": "execute_result"
    }
   ],
   "source": [
    "# Number of duplicated data\n",
    "data.duplicated().value_counts()"
   ]
  },
  {
   "cell_type": "code",
   "execution_count": 12,
   "metadata": {
    "scrolled": false
   },
   "outputs": [
    {
     "data": {
      "image/png": "[encoded data removed]",
      "text/plain": [
       "<Figure size 936x432 with 1 Axes>"
      ]
     },
     "metadata": {
      "needs_background": "light"
     },
     "output_type": "display_data"
    }
   ],
   "source": [
    "# Visualizing the duplicated data\n",
    "plt.figure(figsize=(13, 6))\n",
    "sns.countplot(data.duplicated())\n",
    "plt.title(\"Duplicated Data\");"
   ]
  },
  {
   "cell_type": "markdown",
   "metadata": {},
   "source": [
    "# Data Cleaning\n",
    "From our initial data examination, three things were observed:\n",
    "- Presence of duplicated data\n",
    "- Presence of null values\n",
    "- Columns showed NaN when correlated with the target variables\n",
    "- Multi-colinearlity with STD related columns\n",
    "\n",
    "#### Presence of Null values\n",
    "While there are a lot of columns with null values, any column with null values that exceed **50% of the dataset** would be dropped while the others would be filled with the mode (as they are mainly categorical values).\n",
    "\n",
    "#### Columns not correlated with target variables\n",
    "It was also observed that only one value (0) exist in the **STDs:AIDS**\tand **STDs:cervical condylomatosis** columns hence the reason for no correlation with the target variables.\n",
    "\n",
    "#### Multi-Colinearlity\n",
    "From the exploration, it was observed that the STD column and the various STD related columns have high correlation. To avoid the possibility of multicolinearlity, the **STDs column would be dropped**.\n",
    "\n",
    "#### Removing columns with Dx\n",
    "Given that, we have not been able to get the meaning of the columns prefixed by Dx, the columns would be dropped"
   ]
  },
  {
   "cell_type": "code",
   "execution_count": 13,
   "metadata": {
    "colab": {},
    "colab_type": "code",
    "id": "OsKBAZwtptdo"
   },
   "outputs": [],
   "source": [
    "# Dropping duplicate data\n",
    "data.drop_duplicates(inplace =True)"
   ]
  },
  {
   "cell_type": "code",
   "execution_count": 14,
   "metadata": {},
   "outputs": [],
   "source": [
    "# Given that over 90% of the values in two columns are missing, we would drop them\n",
    "data.drop(columns=['STDs: Time since first diagnosis', 'STDs: Time since last diagnosis'], inplace=True)\n",
    "\n",
    "# Indexing the remaining columns with the null values\n",
    "columns_with_null_values = data.isna().sum()[data.isna().sum() > 0].index\n",
    "\n",
    "# Filling the columns with null values\n",
    "for col in columns_with_null_values:\n",
    "    data[col]= data[col].fillna(data[col].median())"
   ]
  },
  {
   "cell_type": "code",
   "execution_count": 15,
   "metadata": {
    "scrolled": false
   },
   "outputs": [
    {
     "data": {
      "text/plain": [
       "0.0    756\n",
       "1.0     79\n",
       "Name: STDs, dtype: int64"
      ]
     },
     "execution_count": 15,
     "metadata": {},
     "output_type": "execute_result"
    }
   ],
   "source": [
    "# Exploring the STD column\n",
    "data['STDs'].value_counts()"
   ]
  },
  {
   "cell_type": "code",
   "execution_count": 16,
   "metadata": {
    "scrolled": true
   },
   "outputs": [
    {
     "data": {
      "text/plain": [
       "False    756\n",
       "True      79\n",
       "dtype: int64"
      ]
     },
     "execution_count": 16,
     "metadata": {},
     "output_type": "execute_result"
    }
   ],
   "source": [
    "# Checking the various columns related to STD to see if they would have similar values\n",
    "(\n",
    "(data['STDs:condylomatosis'] == 1.0) | (data['STDs:vaginal condylomatosis'] == 1.0) \n",
    "| (data['STDs:vulvo-perineal condylomatosis'] == 1.0) | (data['STDs:syphilis'] == 1.0)\n",
    "| (data['STDs:pelvic inflammatory disease'] == 1.0) | (data['STDs:genital herpes'] == 1.0)\n",
    "| (data['STDs:molluscum contagiosum'] == 1.0) | (data['STDs:HIV'] == 1.0)\n",
    "| (data['STDs:Hepatitis B'] == 1.0) | (data['STDs:HPV'] == 1.0) \n",
    ").value_counts()"
   ]
  },
  {
   "cell_type": "code",
   "execution_count": 17,
   "metadata": {},
   "outputs": [],
   "source": [
    "# Dropping the columns that did not correlate with the target variables\n",
    "data.drop(columns=['STDs:AIDS', 'STDs:cervical condylomatosis', 'STDs'], inplace=True)\n",
    "\n",
    "# Removing the columns with Dx\n",
    "data.drop(columns=data.keys()[[i.__contains__('Dx') for i in data.keys()]], inplace=True)"
   ]
  },
  {
   "cell_type": "code",
   "execution_count": 18,
   "metadata": {
    "colab": {
     "base_uri": "https://localhost:8080/",
     "height": 507
    },
    "colab_type": "code",
    "id": "_zm4SGhzpteh",
    "outputId": "687ecabf-7455-497f-f0cc-062c69e13195"
   },
   "outputs": [
    {
     "data": {
      "text/html": [
       "<div>\n",
       "<style scoped>\n",
       "    .dataframe tbody tr th:only-of-type {\n",
       "        vertical-align: middle;\n",
       "    }\n",
       "\n",
       "    .dataframe tbody tr th {\n",
       "        vertical-align: top;\n",
       "    }\n",
       "\n",
       "    .dataframe thead th {\n",
       "        text-align: right;\n",
       "    }\n",
       "</style>\n",
       "<table border=\"1\" class=\"dataframe\">\n",
       "  <thead>\n",
       "    <tr style=\"text-align: right;\">\n",
       "      <th></th>\n",
       "      <th>Age</th>\n",
       "      <th>Number of sexual partners</th>\n",
       "      <th>First sexual intercourse</th>\n",
       "      <th>Num of pregnancies</th>\n",
       "      <th>Smokes</th>\n",
       "      <th>Smokes (years)</th>\n",
       "      <th>Smokes (packs/year)</th>\n",
       "      <th>Hormonal Contraceptives</th>\n",
       "      <th>Hormonal Contraceptives (years)</th>\n",
       "      <th>IUD</th>\n",
       "      <th>...</th>\n",
       "      <th>STDs:genital herpes</th>\n",
       "      <th>STDs:molluscum contagiosum</th>\n",
       "      <th>STDs:HIV</th>\n",
       "      <th>STDs:Hepatitis B</th>\n",
       "      <th>STDs:HPV</th>\n",
       "      <th>STDs: Number of diagnosis</th>\n",
       "      <th>Hinselmann</th>\n",
       "      <th>Schiller</th>\n",
       "      <th>Citology</th>\n",
       "      <th>Biopsy</th>\n",
       "    </tr>\n",
       "  </thead>\n",
       "  <tbody>\n",
       "    <tr>\n",
       "      <th>0</th>\n",
       "      <td>18</td>\n",
       "      <td>4.0</td>\n",
       "      <td>15.0</td>\n",
       "      <td>1.0</td>\n",
       "      <td>0.0</td>\n",
       "      <td>0.0</td>\n",
       "      <td>0.0</td>\n",
       "      <td>0.0</td>\n",
       "      <td>0.0</td>\n",
       "      <td>0.0</td>\n",
       "      <td>...</td>\n",
       "      <td>0.0</td>\n",
       "      <td>0.0</td>\n",
       "      <td>0.0</td>\n",
       "      <td>0.0</td>\n",
       "      <td>0.0</td>\n",
       "      <td>0</td>\n",
       "      <td>0</td>\n",
       "      <td>0</td>\n",
       "      <td>0</td>\n",
       "      <td>0</td>\n",
       "    </tr>\n",
       "    <tr>\n",
       "      <th>1</th>\n",
       "      <td>15</td>\n",
       "      <td>1.0</td>\n",
       "      <td>14.0</td>\n",
       "      <td>1.0</td>\n",
       "      <td>0.0</td>\n",
       "      <td>0.0</td>\n",
       "      <td>0.0</td>\n",
       "      <td>0.0</td>\n",
       "      <td>0.0</td>\n",
       "      <td>0.0</td>\n",
       "      <td>...</td>\n",
       "      <td>0.0</td>\n",
       "      <td>0.0</td>\n",
       "      <td>0.0</td>\n",
       "      <td>0.0</td>\n",
       "      <td>0.0</td>\n",
       "      <td>0</td>\n",
       "      <td>0</td>\n",
       "      <td>0</td>\n",
       "      <td>0</td>\n",
       "      <td>0</td>\n",
       "    </tr>\n",
       "    <tr>\n",
       "      <th>2</th>\n",
       "      <td>34</td>\n",
       "      <td>1.0</td>\n",
       "      <td>17.0</td>\n",
       "      <td>1.0</td>\n",
       "      <td>0.0</td>\n",
       "      <td>0.0</td>\n",
       "      <td>0.0</td>\n",
       "      <td>0.0</td>\n",
       "      <td>0.0</td>\n",
       "      <td>0.0</td>\n",
       "      <td>...</td>\n",
       "      <td>0.0</td>\n",
       "      <td>0.0</td>\n",
       "      <td>0.0</td>\n",
       "      <td>0.0</td>\n",
       "      <td>0.0</td>\n",
       "      <td>0</td>\n",
       "      <td>0</td>\n",
       "      <td>0</td>\n",
       "      <td>0</td>\n",
       "      <td>0</td>\n",
       "    </tr>\n",
       "    <tr>\n",
       "      <th>3</th>\n",
       "      <td>52</td>\n",
       "      <td>5.0</td>\n",
       "      <td>16.0</td>\n",
       "      <td>4.0</td>\n",
       "      <td>1.0</td>\n",
       "      <td>37.0</td>\n",
       "      <td>37.0</td>\n",
       "      <td>1.0</td>\n",
       "      <td>3.0</td>\n",
       "      <td>0.0</td>\n",
       "      <td>...</td>\n",
       "      <td>0.0</td>\n",
       "      <td>0.0</td>\n",
       "      <td>0.0</td>\n",
       "      <td>0.0</td>\n",
       "      <td>0.0</td>\n",
       "      <td>0</td>\n",
       "      <td>0</td>\n",
       "      <td>0</td>\n",
       "      <td>0</td>\n",
       "      <td>0</td>\n",
       "    </tr>\n",
       "    <tr>\n",
       "      <th>4</th>\n",
       "      <td>46</td>\n",
       "      <td>3.0</td>\n",
       "      <td>21.0</td>\n",
       "      <td>4.0</td>\n",
       "      <td>0.0</td>\n",
       "      <td>0.0</td>\n",
       "      <td>0.0</td>\n",
       "      <td>1.0</td>\n",
       "      <td>15.0</td>\n",
       "      <td>0.0</td>\n",
       "      <td>...</td>\n",
       "      <td>0.0</td>\n",
       "      <td>0.0</td>\n",
       "      <td>0.0</td>\n",
       "      <td>0.0</td>\n",
       "      <td>0.0</td>\n",
       "      <td>0</td>\n",
       "      <td>0</td>\n",
       "      <td>0</td>\n",
       "      <td>0</td>\n",
       "      <td>0</td>\n",
       "    </tr>\n",
       "  </tbody>\n",
       "</table>\n",
       "<p>5 rows × 27 columns</p>\n",
       "</div>"
      ],
      "text/plain": [
       "   Age  Number of sexual partners  First sexual intercourse  \\\n",
       "0   18                        4.0                      15.0   \n",
       "1   15                        1.0                      14.0   \n",
       "2   34                        1.0                      17.0   \n",
       "3   52                        5.0                      16.0   \n",
       "4   46                        3.0                      21.0   \n",
       "\n",
       "   Num of pregnancies  Smokes  Smokes (years)  Smokes (packs/year)  \\\n",
       "0                 1.0     0.0             0.0                  0.0   \n",
       "1                 1.0     0.0             0.0                  0.0   \n",
       "2                 1.0     0.0             0.0                  0.0   \n",
       "3                 4.0     1.0            37.0                 37.0   \n",
       "4                 4.0     0.0             0.0                  0.0   \n",
       "\n",
       "   Hormonal Contraceptives  Hormonal Contraceptives (years)  IUD  ...  \\\n",
       "0                      0.0                              0.0  0.0  ...   \n",
       "1                      0.0                              0.0  0.0  ...   \n",
       "2                      0.0                              0.0  0.0  ...   \n",
       "3                      1.0                              3.0  0.0  ...   \n",
       "4                      1.0                             15.0  0.0  ...   \n",
       "\n",
       "   STDs:genital herpes  STDs:molluscum contagiosum  STDs:HIV  \\\n",
       "0                  0.0                         0.0       0.0   \n",
       "1                  0.0                         0.0       0.0   \n",
       "2                  0.0                         0.0       0.0   \n",
       "3                  0.0                         0.0       0.0   \n",
       "4                  0.0                         0.0       0.0   \n",
       "\n",
       "   STDs:Hepatitis B  STDs:HPV  STDs: Number of diagnosis  Hinselmann  \\\n",
       "0               0.0       0.0                          0           0   \n",
       "1               0.0       0.0                          0           0   \n",
       "2               0.0       0.0                          0           0   \n",
       "3               0.0       0.0                          0           0   \n",
       "4               0.0       0.0                          0           0   \n",
       "\n",
       "   Schiller  Citology  Biopsy  \n",
       "0         0         0       0  \n",
       "1         0         0       0  \n",
       "2         0         0       0  \n",
       "3         0         0       0  \n",
       "4         0         0       0  \n",
       "\n",
       "[5 rows x 27 columns]"
      ]
     },
     "execution_count": 18,
     "metadata": {},
     "output_type": "execute_result"
    }
   ],
   "source": [
    "# Previewing the dataset after filling the null values\n",
    "data.head()"
   ]
  },
  {
   "cell_type": "markdown",
   "metadata": {},
   "source": [
    "## Exploratory Data Analysis\n"
   ]
  },
  {
   "cell_type": "code",
   "execution_count": 19,
   "metadata": {},
   "outputs": [
    {
     "data": {
      "image/png": "[encoded data removed]",
      "text/plain": [
       "<Figure size 1008x432 with 1 Axes>"
      ]
     },
     "metadata": {
      "needs_background": "light"
     },
     "output_type": "display_data"
    }
   ],
   "source": [
    "#  Age Distribution\n",
    "data['Age'].hist(figsize=(14, 6))\n",
    "plt.title(\"Age distribution of the individuals\");"
   ]
  },
  {
   "cell_type": "markdown",
   "metadata": {},
   "source": [
    "### Visualizing the Target Variables"
   ]
  },
  {
   "cell_type": "code",
   "execution_count": 20,
   "metadata": {},
   "outputs": [
    {
     "data": {
      "image/png": "[encoded data removed]",
      "text/plain": [
       "<Figure size 1008x504 with 4 Axes>"
      ]
     },
     "metadata": {
      "needs_background": "light"
     },
     "output_type": "display_data"
    }
   ],
   "source": [
    "# Plotting the 'Hinselmann', 'Citology','Schiller','Biopsy' columns\n",
    "data[['Hinselmann', 'Citology','Schiller','Biopsy']].apply(lambda x: x.value_counts()).plot.bar(\n",
    "    layout = (2,2), subplots=True, figsize=(14, 7))\n",
    "\n",
    "# Formatting the figure\n",
    "plt.tight_layout();"
   ]
  },
  {
   "cell_type": "markdown",
   "metadata": {},
   "source": [
    "## Feature Engineering\n",
    "\n",
    "As shown in the figure above, the target variables **'Hinselmann', 'Citology','Schiller','Biopsy'** are all tests necessary for the detection of Cervical cancer. Given that the features shown in the figure above are unbalanced, it would be best to resample the minority class to avoid the our models overfitting on the majority class. "
   ]
  },
  {
   "cell_type": "code",
   "execution_count": 21,
   "metadata": {},
   "outputs": [],
   "source": [
    "# Targets variables\n",
    "targets = ['Hinselmann', 'Citology','Schiller','Biopsy']\n",
    "\n",
    "# Features of the dataset\n",
    "features = data.drop(columns=['Hinselmann', 'Citology','Schiller','Biopsy']).keys()"
   ]
  },
  {
   "cell_type": "code",
   "execution_count": 22,
   "metadata": {
    "colab": {},
    "colab_type": "code",
    "id": "LkwGmXa3r3pS"
   },
   "outputs": [],
   "source": [
    "# The minority class consists of the rows where the target variable  equals 1.0\n",
    "minority_class = data.loc[(data['Hinselmann'] == 1.0) | (data['Citology'] == 1.0) | (data['Schiller'] == 1.0) | (data['Biopsy'] == 1.0)]\n",
    "majority_class = data.loc[(data['Hinselmann'] != 1.0) & (data['Citology'] != 1.0) & (data['Schiller'] != 1.0) & (data['Biopsy'] != 1.0)]"
   ]
  },
  {
   "cell_type": "code",
   "execution_count": 23,
   "metadata": {
    "colab": {},
    "colab_type": "code",
    "id": "Z2njxqX9ptfC"
   },
   "outputs": [],
   "source": [
    "# Upsampling the data\n",
    "data_upsampled = resample(minority_class,\n",
    "                          replace=True, # sample with replacement\n",
    "                          n_samples=len(minority_class), # match number in majority class\n",
    "                          random_state=0) # Random state of 1\n",
    "\n",
    "# Splitting the dataset into test and train with a test size of 20%\n",
    "X_train, X_test, y_train, y_test = train_test_split(data_upsampled[features], data_upsampled[targets],\n",
    "                                                test_size=0.2, random_state=0)\n",
    "\n",
    "# Converting the y_dataframes to arrays\n",
    "y_train = np.array(y_train)\n",
    "y_test = np.array(y_test)\n",
    "\n",
    "# An instance of the min-max scaler\n",
    "scaler = MinMaxScaler()\n",
    "\n",
    "# Scaling the dataset\n",
    "X_train = scaler.fit_transform(X_train)\n",
    "X_test = scaler.transform(X_test)"
   ]
  },
  {
   "cell_type": "markdown",
   "metadata": {},
   "source": [
    "## Training and prediction\n",
    "Given that there are four target variables, we would use train the various models on each of the dataset and predict the outcome."
   ]
  },
  {
   "cell_type": "code",
   "execution_count": 24,
   "metadata": {
    "colab": {
     "base_uri": "https://localhost:8080/",
     "height": 357
    },
    "colab_type": "code",
    "id": "WV8vmDBlGrfy",
    "outputId": "4430a69d-ffac-4e7c-9e89-f77a7ce02ec2"
   },
   "outputs": [
    {
     "name": "stdout",
     "output_type": "stream",
     "text": [
      "Hinselmann\n",
      "\tAccuracy : 0.6666666666666666\n",
      "\tPrecision : 0.5\n",
      "\tRecall : 0.42857142857142855\n",
      "\tF1 score : 0.4615384615384615\n",
      "Citology\n",
      "\tAccuracy : 0.7619047619047619\n",
      "\tPrecision : 0.6153846153846154\n",
      "\tRecall : 1.0\n",
      "\tF1 score : 0.761904761904762\n",
      "Schiller\n",
      "\tAccuracy : 0.7619047619047619\n",
      "\tPrecision : 0.6666666666666666\n",
      "\tRecall : 1.0\n",
      "\tF1 score : 0.8\n",
      "Biopsy\n",
      "\tAccuracy : 0.47619047619047616\n",
      "\tPrecision : 0.6666666666666666\n",
      "\tRecall : 0.3076923076923077\n",
      "\tF1 score : 0.42105263157894735\n"
     ]
    }
   ],
   "source": [
    "# Target variables\n",
    "labels = ['Hinselmann', 'Citology','Schiller','Biopsy']\n",
    "\n",
    "# List to hold the classification metrics\n",
    "accuracy, precision, recall, f1_score = [], [], [], []\n",
    "\n",
    "for i in range(4):\n",
    "    # Instantiating the various classifier models\n",
    "    NBClassifer = MultinomialNB(fit_prior = False)\n",
    "    SVClassifer = SVC()\n",
    "    LogClassifier = LogisticRegression()\n",
    "    DTClassifier = DecisionTreeClassifier()\n",
    "    KNNClassifier = KNeighborsClassifier(n_neighbors = 10)\n",
    "    \n",
    "    # Using the Stacking classifier Ensemble method\n",
    "    Ensemble=StackingClassifier(estimators=[('SVC',SVClassifer),('LR',LogClassifier),\n",
    "                                         ('KNN',KNNClassifier),('NB',NBClassifer),\n",
    "                                         ('DT',DTClassifier)],cv=2)\n",
    "\n",
    "    # Fitting the models with the dataset (one target variable at a time)\n",
    "    Ensemble.fit(X_train, y_train[:,i])\n",
    "    \n",
    "    # Predicting the features\n",
    "    Ensemble_pred = Ensemble.predict(X_test)\n",
    "\n",
    "    accuracy.append(accuracy_score(y_test[:,i], Ensemble_pred)) # Appending the accuracy score\n",
    "    \n",
    "    pre1, rec1, f1, sup = precision_recall_fscore_support(y_test[:,i], Ensemble_pred, average = 'binary', labels = [0, 1])\n",
    "    precision.append(pre1)\n",
    "    recall.append(rec1)\n",
    "    f1_score.append(f1)\n",
    "    print(labels[i])\n",
    "    print(\"\\tAccuracy :\", accuracy[-1])\n",
    "    print(\"\\tPrecision :\", precision[-1])\n",
    "    print(\"\\tRecall :\", recall[-1])\n",
    "    print(\"\\tF1 score :\", f1_score[-1])"
   ]
  },
  {
   "cell_type": "code",
   "execution_count": 25,
   "metadata": {
    "colab": {
     "base_uri": "https://localhost:8080/",
     "height": 297
    },
    "colab_type": "code",
    "id": "FGcPFlN_smtv",
    "outputId": "465cbcf8-4b3b-4331-c228-e86c6ef4d041"
   },
   "outputs": [
    {
     "data": {
      "image/png": "[encoded data removed]",
      "text/plain": [
       "<Figure size 936x432 with 1 Axes>"
      ]
     },
     "metadata": {
      "needs_background": "light"
     },
     "output_type": "display_data"
    }
   ],
   "source": [
    "# Plotting the graph for the evaluation metrics\n",
    "plt.figure(figsize=(13, 6)) # Tweaking the figure size\n",
    "\n",
    "plt.plot(labels, accuracy, color = 'lightcoral',marker='o',label = 'Accuracy') # Accuracy\n",
    "plt.plot(labels, precision, color = 'mediumseagreen',marker='v',label = 'Precision') # Precision\n",
    "plt.plot(labels, recall, color = 'turquoise',marker='s',label = 'Recall') # Recall \n",
    "plt.plot(labels, f1_score,   color = 'plum',marker='x',label = 'F-Score') # F1 Score\n",
    "\n",
    "plt.xlabel(\"Target Variables\") # Tweaking the x label \n",
    "plt.ylabel(\"Score\") # Tweaking the y label\n",
    "plt.title(\"Accuracy, Precision, Recall and F1-Score comparision\") # Changing the graph title\n",
    "\n",
    "# Changing the graph properites\n",
    "plt.legend() \n",
    "plt.grid()\n",
    "sns.despine()"
   ]
  },
  {
   "cell_type": "code",
   "execution_count": 26,
   "metadata": {
    "colab": {
     "base_uri": "https://localhost:8080/",
     "height": 301
    },
    "colab_type": "code",
    "id": "LSwTWVl-u4rp",
    "outputId": "df86134b-6310-4bb2-fc96-4ee156ccfc1d"
   },
   "outputs": [
    {
     "data": {
      "image/png": "[encoded data removed]",
      "text/plain": [
       "<Figure size 936x432 with 1 Axes>"
      ]
     },
     "metadata": {
      "needs_background": "light"
     },
     "output_type": "display_data"
    }
   ],
   "source": [
    "plt.figure(figsize=(13, 6))\n",
    "\n",
    "# Creating a dataframe to hold the metrics of the various target variables\n",
    "metrics_ensemble = pd.DataFrame({'Target variables':labels*4,\n",
    "                  'Metric':accuracy+precision+recall+f1_score, \n",
    "                  'Type':[\"Accuracy\"]*4+[\"Precision\"]*4+[\"Recall\"]*4+[\"F-Score\"]*4})\n",
    "\n",
    "sns_plot = sns.pointplot(x=\"Target variables\", y=\"Metric\", hue=\"Type\", markers=[\"o\", \"v\", \"s\", \"x\"], data=metrics_ensemble)\n",
    "plt.title(\"Ensemble Method\", size=14);"
   ]
  },
  {
   "cell_type": "markdown",
   "metadata": {},
   "source": [
    "## Multi-Label Classification\n",
    "\n",
    "After predicting the outcome of the variables one at a time, we then proceeed to use multi-label classification with five models to see the one with the best classification metrics."
   ]
  },
  {
   "cell_type": "code",
   "execution_count": 27,
   "metadata": {
    "scrolled": true
   },
   "outputs": [],
   "source": [
    "# Model names\n",
    "model_names = [\"Naive Bayes\", \"SVM\", \"Logistic Regression\", \"KNN\",  \"Decision Tree\"]\n",
    "\n",
    "# list to append the accuracy\n",
    "accuracy_ml = []\n",
    "\n",
    "# Instantiating the models\n",
    "models = [MultinomialNB(), SVC(C = 2000, kernel = 'rbf'), LogisticRegression(C=1, solver='newton-cg'), \n",
    "         KNeighborsClassifier(weights='distance'), DecisionTreeClassifier(class_weight='balanced',random_state=42)]\n",
    "\n",
    "# Dictionary to hold the model score and classification report\n",
    "results = {}\n",
    "\n",
    "# Looping through the model\n",
    "for name, model in zip(model_names, models):\n",
    "    model = MultiOutputClassifier(model) # Converts the model to a multi-output classifier\n",
    "    model.fit(X_train, y_train) # fitting the model\n",
    "    y_pred = model.predict(X_test) # predicting the multiclass outputs\n",
    "    \n",
    "    # Assigning the model result back to the dictionary\n",
    "    results[name] = [('Testing Accuracy', model.score(X_test, y_test)), classification_report(y_test, y_pred)] \n",
    "    \n",
    "    # Appending the accuracy to the accuracy_ml list\n",
    "    accuracy_ml.append(model.score(X_test, y_test))"
   ]
  },
  {
   "cell_type": "code",
   "execution_count": 28,
   "metadata": {},
   "outputs": [
    {
     "name": "stdout",
     "output_type": "stream",
     "text": [
      "------------------------------------------------------------\n",
      "\t\tNaive Bayes - Testing Accuracy: 0.0476\n",
      "------------------------------------------------------------\n",
      "              precision    recall  f1-score   support\n",
      "\n",
      "           0       0.00      0.00      0.00         7\n",
      "           1       0.67      0.25      0.36         8\n",
      "           2       0.48      1.00      0.65        10\n",
      "           3       0.50      0.38      0.43        13\n",
      "\n",
      "   micro avg       0.50      0.45      0.47        38\n",
      "   macro avg       0.41      0.41      0.36        38\n",
      "weighted avg       0.44      0.45      0.40        38\n",
      " samples avg       0.48      0.38      0.38        38\n",
      "\n",
      "------------------------------------------------------------\n",
      "\t\tSVM - Testing Accuracy: 0.5238\n",
      "------------------------------------------------------------\n",
      "              precision    recall  f1-score   support\n",
      "\n",
      "           0       0.40      0.29      0.33         7\n",
      "           1       0.75      0.75      0.75         8\n",
      "           2       0.69      0.90      0.78        10\n",
      "           3       0.88      0.54      0.67        13\n",
      "\n",
      "   micro avg       0.71      0.63      0.67        38\n",
      "   macro avg       0.68      0.62      0.63        38\n",
      "weighted avg       0.71      0.63      0.65        38\n",
      " samples avg       0.75      0.67      0.68        38\n",
      "\n",
      "------------------------------------------------------------\n",
      "\t\tLogistic Regression - Testing Accuracy: 0.0476\n",
      "------------------------------------------------------------\n",
      "              precision    recall  f1-score   support\n",
      "\n",
      "           0       0.00      0.00      0.00         7\n",
      "           1       0.75      0.75      0.75         8\n",
      "           2       0.50      1.00      0.67        10\n",
      "           3       0.42      0.38      0.40        13\n",
      "\n",
      "   micro avg       0.53      0.55      0.54        38\n",
      "   macro avg       0.42      0.53      0.45        38\n",
      "weighted avg       0.43      0.55      0.47        38\n",
      " samples avg       0.51      0.53      0.46        38\n",
      "\n",
      "------------------------------------------------------------\n",
      "\t\tKNN - Testing Accuracy: 0.5714\n",
      "------------------------------------------------------------\n",
      "              precision    recall  f1-score   support\n",
      "\n",
      "           0       0.33      0.29      0.31         7\n",
      "           1       1.00      1.00      1.00         8\n",
      "           2       0.69      0.90      0.78        10\n",
      "           3       0.80      0.92      0.86        13\n",
      "\n",
      "   micro avg       0.74      0.82      0.78        38\n",
      "   macro avg       0.71      0.78      0.74        38\n",
      "weighted avg       0.73      0.82      0.77        38\n",
      " samples avg       0.79      0.88      0.80        38\n",
      "\n",
      "------------------------------------------------------------\n",
      "\t\tDecision Tree - Testing Accuracy: 0.5714\n",
      "------------------------------------------------------------\n",
      "              precision    recall  f1-score   support\n",
      "\n",
      "           0       0.57      0.57      0.57         7\n",
      "           1       0.62      1.00      0.76         8\n",
      "           2       0.71      1.00      0.83        10\n",
      "           3       0.73      0.62      0.67        13\n",
      "\n",
      "   micro avg       0.67      0.79      0.72        38\n",
      "   macro avg       0.66      0.80      0.71        38\n",
      "weighted avg       0.67      0.79      0.71        38\n",
      " samples avg       0.75      0.84      0.76        38\n",
      "\n"
     ]
    }
   ],
   "source": [
    "# Printing out the result of the various models\n",
    "for key, val in results.items():\n",
    "    print('--'* 30)\n",
    "    print('\\t\\t'\"{} - {}: {}\".format(key, val[0][0], round(val[0][1], 4))) # Prints out the Name and accuracy of the model\n",
    "    print('--' * 30)\n",
    "    print(val[1]) # Prints out the classification report"
   ]
  },
  {
   "cell_type": "code",
   "execution_count": 29,
   "metadata": {
    "colab": {
     "base_uri": "https://localhost:8080/",
     "height": 293
    },
    "colab_type": "code",
    "id": "j99lfGZ9yhwr",
    "outputId": "44ca2f88-411f-4872-8c1f-da68daadab81",
    "scrolled": false
   },
   "outputs": [
    {
     "data": {
      "image/png": "[encoded data removed]",
      "text/plain": [
       "<Figure size 936x432 with 1 Axes>"
      ]
     },
     "metadata": {
      "needs_background": "light"
     },
     "output_type": "display_data"
    }
   ],
   "source": [
    "# Plotting the accuracy of the models\n",
    "plt.figure(figsize=(13, 6))\n",
    "\n",
    "# Plotting the accuracy as a line plot\n",
    "plt.plot(model_names, accuracy_ml, color = 'lightcoral',marker='o',label = 'Accuracy')\n",
    "\n",
    "# Tweaking the figure titles\n",
    "plt.xlabel(\"Models\")\n",
    "plt.ylabel(\"Score\")\n",
    "plt.title(\"Accuracy of the Multi-label Classification\", size=15);"
   ]
  },
  {
   "cell_type": "markdown",
   "metadata": {},
   "source": [
    "# Conclusion\n",
    "\n",
    "Given the accuracy of the models, SVM, KNN and Decision Trees were the best performing models."
   ]
  },
  {
   "cell_type": "code",
   "execution_count": null,
   "metadata": {},
   "outputs": [],
   "source": []
  }
 ],
 "metadata": {
  "colab": {
   "collapsed_sections": [],
   "name": "Cervical Cancer Prediction.ipynb",
   "provenance": []
  },
  "kernelspec": {
   "display_name": "Python 3",
   "language": "python",
   "name": "python3"
  },
  "language_info": {
   "codemirror_mode": {
    "name": "ipython",
    "version": 3
   },
   "file_extension": ".py",
   "mimetype": "text/x-python",
   "name": "python",
   "nbconvert_exporter": "python",
   "pygments_lexer": "ipython3",
   "version": "3.7.6"
  }
 },
 "nbformat": 4,
 "nbformat_minor": 1
}
